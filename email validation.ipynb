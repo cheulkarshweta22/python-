{
 "cells": [
  {
   "cell_type": "markdown",
   "id": "3156055c",
   "metadata": {},
   "source": [
    "# Email validation "
   ]
  },
  {
   "cell_type": "code",
   "execution_count": 31,
   "id": "38fe01b0",
   "metadata": {},
   "outputs": [
    {
     "name": "stdout",
     "output_type": "stream",
     "text": [
      "Enter your Email ID :dShubham@gmail.com\n",
      "\u001b[5mWRONG EMAIL ID\u001b[5m\n",
      "Email id  should be in lowercase and without space\n"
     ]
    }
   ],
   "source": [
    "\n",
    "email=input(\"Enter your Email ID :\")\n",
    "k,j,d=0,0,0\n",
    "#s = \"WRONG EMAIL ID\"\n",
    "from colorama import Fore, Back, Style\n",
    "# print(Fore.RED + s)\n",
    "\n",
    "#BOLD='\\033[5m'+s+'\\033[5m'\n",
    "if len(email)>=6:  # mininmum 6 character\n",
    "    if email[0].isalpha(): # first character must alphabate\n",
    "        if (\"@\"in email) and (email.count(\"@\")==1):  # email id must have only one @ sign\n",
    "            if (email[-4]==\".\") ^ (email[-3]==\".\"): # email id must have . sign in 4th last or 3rd last place\n",
    "                for i in email:\n",
    "                    if i==i.isspace(): # no space in emali id\n",
    "                        k=1\n",
    "                    elif i.isalpha():\n",
    "                        if i==i.upper(): # no uppercase\n",
    "                            j=1\n",
    "                    elif i.isdigit():\n",
    "                        continue\n",
    "                    elif i==\"_\" or i==\".\" or i==\"@\":\n",
    "                        continue\n",
    "                    else:\n",
    "                        d=1\n",
    "                            \n",
    "                        \n",
    "                if k==1 or j==1 or d==1:\n",
    "                    print(BOLD)\n",
    "                    print(\"Email id  should be in lowercase and without space\")\n",
    "                pass\n",
    "            else:\n",
    "                print(BOLD)\n",
    "               # print(\"\\033[1mWRONG EMALI ID\\033[0m\") # \\033[1m____\\033[0m is uswed to print in bold\n",
    "                print(\"Email id must have '.' sign\")\n",
    "        \n",
    "        else:\n",
    "            print(BOLD)\n",
    "#             print(\"\\033[1mWRONG EMALI ID\\033[0m\")\n",
    "            print(\"Email id must have '@' sign\")\n",
    "    else:\n",
    "        print(BOLD)\n",
    "#         print(\"\\033[1mWRONG EMALI ID\\033[0m\")\n",
    "        print(\"First letter of Email ID should be alphabate\")\n",
    "else:\n",
    "    print(BOLD)\n",
    "#     print(\"\\033[1mWRONG EMALI ID\\033[0m\")\n",
    "    print(\"Email ID must have minimum 6 character\")\n",
    "    \n",
    "    "
   ]
  },
  {
   "cell_type": "code",
   "execution_count": null,
   "id": "d363b33f",
   "metadata": {},
   "outputs": [],
   "source": []
  },
  {
   "cell_type": "code",
   "execution_count": 10,
   "id": "5df37b25",
   "metadata": {},
   "outputs": [
    {
     "name": "stdout",
     "output_type": "stream",
     "text": [
      "\u001b[31msome red text\n"
     ]
    }
   ],
   "source": [
    "from colorama import Fore, Back, Style\n",
    "\n",
    "print(Fore.RED + 'some red text')\n"
   ]
  },
  {
   "cell_type": "code",
   "execution_count": null,
   "id": "29a59469",
   "metadata": {},
   "outputs": [],
   "source": [
    "\n"
   ]
  }
 ],
 "metadata": {
  "kernelspec": {
   "display_name": "Python 3 (ipykernel)",
   "language": "python",
   "name": "python3"
  },
  "language_info": {
   "codemirror_mode": {
    "name": "ipython",
    "version": 3
   },
   "file_extension": ".py",
   "mimetype": "text/x-python",
   "name": "python",
   "nbconvert_exporter": "python",
   "pygments_lexer": "ipython3",
   "version": "3.11.5"
  }
 },
 "nbformat": 4,
 "nbformat_minor": 5
}
